{
 "cells": [
  {
   "cell_type": "markdown",
   "metadata": {},
   "source": [
    "# Init the data frame"
   ]
  },
  {
   "cell_type": "code",
   "execution_count": 19,
   "metadata": {},
   "outputs": [],
   "source": [
    "import this\n",
    "from unicodedata import name\n",
    "from pandas import Series, DataFrame\n",
    "import pandas as pd\n",
    "\n",
    "timelimit = 60\n",
    "\n",
    "index_template = [\"sat\", \"unsat\", \"unknown\", \"error\", \"timeout\", \"time(ms)\"]\n",
    "\n",
    "\n",
    "class ResultDic:\n",
    "    name: str\n",
    "    resdic: dict\n",
    "\n",
    "    def __init__(self, name: str) -> None:\n",
    "        self.name = name\n",
    "        self.resdic = {}\n",
    "\n",
    "    def update(self, colname: str, onedata: list):\n",
    "        self.resdic[colname] = onedata\n",
    "\n",
    "    def isempty(self):\n",
    "        return self.resdic == {}\n",
    "\n",
    "\n",
    "class ResultDf:\n",
    "    resdics: dict[str, ResultDic]\n",
    "\n",
    "    def __init__(self) -> None:\n",
    "        self.resdics = {\n",
    "            \"unary\": ResultDic(\"unary\"),\n",
    "            \"catra\": ResultDic(\"catra\"),\n",
    "            \"baseline\": ResultDic(\"baseline\"),\n",
    "        }\n",
    "\n",
    "    def update(self, backend: str, colname: str, onedata: list):\n",
    "        \"\"\"update result dataframe for a backend\n",
    "\n",
    "        Args:\n",
    "            backend (str): name of backend\n",
    "            colname (str): name of column\n",
    "            onedata (list): one column data\n",
    "        \"\"\"\n",
    "        self.resdics[backend].update(colname, onedata)\n",
    "\n",
    "    def get_df(self) -> list[DataFrame]:\n",
    "        \"\"\"convert to dataframe\n",
    "\n",
    "        Returns:\n",
    "            res (list[Dataframe]): generator of dataframe\n",
    "        \"\"\"\n",
    "        df_list = []\n",
    "        for resdic in self.resdics.values():\n",
    "            if resdic.isempty():\n",
    "                print(f\"Warning: {resdic.name} is empty\")\n",
    "                continue\n",
    "            res = DataFrame(resdic.resdic, index=index_template).astype(\"int64\").T\n",
    "            res.name = resdic.name\n",
    "            df_list.append(res)\n",
    "        return df_list\n"
   ]
  },
  {
   "cell_type": "markdown",
   "metadata": {},
   "source": [
    "#  Get files containing the result\n"
   ]
  },
  {
   "cell_type": "code",
   "execution_count": 20,
   "metadata": {},
   "outputs": [
    {
     "name": "stdout",
     "output_type": "stream",
     "text": [
      "['/home/hudh/github/ostrich/experiment/res/22-11-05_14:58:09solve_unknown/unary_log.txt']\n"
     ]
    }
   ],
   "source": [
    "import os\n",
    "import glob\n",
    "\n",
    "commit = '22-11-05_14:58:09solve_unknown'\n",
    "\n",
    "dirname = os.path.abspath(\"\")\n",
    "\n",
    "analyzed_files = glob.glob(f\"{dirname}/res/{commit}/*_log.txt\", recursive=True)\n",
    "print(analyzed_files)\n"
   ]
  },
  {
   "cell_type": "markdown",
   "metadata": {},
   "source": [
    "# Parse the files"
   ]
  },
  {
   "cell_type": "code",
   "execution_count": 21,
   "metadata": {},
   "outputs": [
    {
     "name": "stdout",
     "output_type": "stream",
     "text": [
      "Warning: catra is empty\n",
      "Warning: baseline is empty\n"
     ]
    },
    {
     "ename": "ValueError",
     "evalue": "Must specify a fill 'value' or 'method'.",
     "output_type": "error",
     "traceback": [
      "\u001b[0;31m---------------------------------------------------------------------------\u001b[0m",
      "\u001b[0;31mValueError\u001b[0m                                Traceback (most recent call last)",
      "Cell \u001b[0;32mIn [21], line 87\u001b[0m\n\u001b[1;32m     81\u001b[0m     resdf \u001b[39m=\u001b[39m pd\u001b[39m.\u001b[39mconcat(dataframes, axis\u001b[39m=\u001b[39m\u001b[39m1\u001b[39m, ignore_index\u001b[39m=\u001b[39m\u001b[39mTrue\u001b[39;00m)\u001b[39m.\u001b[39mrename(\n\u001b[1;32m     82\u001b[0m         columns\u001b[39m=\u001b[39m\u001b[39mdict\u001b[39m(\u001b[39mzip\u001b[39m(index, dfnames))\n\u001b[1;32m     83\u001b[0m     )\n\u001b[1;32m     84\u001b[0m     \u001b[39mreturn\u001b[39;00m resdf\n\u001b[0;32m---> 87\u001b[0m get_final_df(res)\n",
      "Cell \u001b[0;32mIn [21], line 73\u001b[0m, in \u001b[0;36mget_final_df\u001b[0;34m(res)\u001b[0m\n\u001b[1;32m     71\u001b[0m dic[\u001b[39m\"\u001b[39m\u001b[39mavg_time(unsat) ms\u001b[39m\u001b[39m\"\u001b[39m] \u001b[39m=\u001b[39m [df[df[\u001b[39m\"\u001b[39m\u001b[39munsat\u001b[39m\u001b[39m\"\u001b[39m] \u001b[39m==\u001b[39m \u001b[39m1\u001b[39m][\u001b[39m\"\u001b[39m\u001b[39mtime(ms)\u001b[39m\u001b[39m\"\u001b[39m]\u001b[39m.\u001b[39mmean()]\n\u001b[1;32m     72\u001b[0m dic[\u001b[39m\"\u001b[39m\u001b[39mavg_time(total) ms\u001b[39m\u001b[39m\"\u001b[39m] \u001b[39m=\u001b[39m [df[\u001b[39m\"\u001b[39m\u001b[39mtime(ms)\u001b[39m\u001b[39m\"\u001b[39m]\u001b[39m.\u001b[39mmean()]\n\u001b[0;32m---> 73\u001b[0m avgf \u001b[39m=\u001b[39m DataFrame(dic)\u001b[39m.\u001b[39;49mT\u001b[39m.\u001b[39;49mfillna()\n\u001b[1;32m     74\u001b[0m sumf \u001b[39m=\u001b[39m df\u001b[39m.\u001b[39msum()\u001b[39m.\u001b[39mdrop(index\u001b[39m=\u001b[39m\u001b[39m\"\u001b[39m\u001b[39mtime(ms)\u001b[39m\u001b[39m\"\u001b[39m)\n\u001b[1;32m     75\u001b[0m concatf \u001b[39m=\u001b[39m pd\u001b[39m.\u001b[39mconcat([sumf, avgf])\u001b[39m.\u001b[39mastype(\u001b[39m\"\u001b[39m\u001b[39mint64\u001b[39m\u001b[39m\"\u001b[39m)\n",
      "File \u001b[0;32m~/.local/lib/python3.10/site-packages/pandas/util/_decorators.py:317\u001b[0m, in \u001b[0;36mdeprecate_nonkeyword_arguments.<locals>.decorate.<locals>.wrapper\u001b[0;34m(*args, **kwargs)\u001b[0m\n\u001b[1;32m    311\u001b[0m \u001b[39mif\u001b[39;00m \u001b[39mlen\u001b[39m(args) \u001b[39m>\u001b[39m num_allow_args:\n\u001b[1;32m    312\u001b[0m     warnings\u001b[39m.\u001b[39mwarn(\n\u001b[1;32m    313\u001b[0m         msg\u001b[39m.\u001b[39mformat(arguments\u001b[39m=\u001b[39marguments),\n\u001b[1;32m    314\u001b[0m         \u001b[39mFutureWarning\u001b[39;00m,\n\u001b[1;32m    315\u001b[0m         stacklevel\u001b[39m=\u001b[39mfind_stack_level(inspect\u001b[39m.\u001b[39mcurrentframe()),\n\u001b[1;32m    316\u001b[0m     )\n\u001b[0;32m--> 317\u001b[0m \u001b[39mreturn\u001b[39;00m func(\u001b[39m*\u001b[39;49margs, \u001b[39m*\u001b[39;49m\u001b[39m*\u001b[39;49mkwargs)\n",
      "File \u001b[0;32m~/.local/lib/python3.10/site-packages/pandas/core/frame.py:5627\u001b[0m, in \u001b[0;36mDataFrame.fillna\u001b[0;34m(self, value, method, axis, inplace, limit, downcast)\u001b[0m\n\u001b[1;32m   5616\u001b[0m \u001b[39m@deprecate_nonkeyword_arguments\u001b[39m(version\u001b[39m=\u001b[39m\u001b[39mNone\u001b[39;00m, allowed_args\u001b[39m=\u001b[39m[\u001b[39m\"\u001b[39m\u001b[39mself\u001b[39m\u001b[39m\"\u001b[39m, \u001b[39m\"\u001b[39m\u001b[39mvalue\u001b[39m\u001b[39m\"\u001b[39m])\n\u001b[1;32m   5617\u001b[0m \u001b[39m@doc\u001b[39m(NDFrame\u001b[39m.\u001b[39mfillna, \u001b[39m*\u001b[39m\u001b[39m*\u001b[39m_shared_doc_kwargs)\n\u001b[1;32m   5618\u001b[0m \u001b[39mdef\u001b[39;00m \u001b[39mfillna\u001b[39m(  \u001b[39m# type: ignore[override]\u001b[39;00m\n\u001b[0;32m   (...)\u001b[0m\n\u001b[1;32m   5625\u001b[0m     downcast: \u001b[39mdict\u001b[39m \u001b[39m|\u001b[39m \u001b[39mNone\u001b[39;00m \u001b[39m=\u001b[39m \u001b[39mNone\u001b[39;00m,\n\u001b[1;32m   5626\u001b[0m ) \u001b[39m-\u001b[39m\u001b[39m>\u001b[39m DataFrame \u001b[39m|\u001b[39m \u001b[39mNone\u001b[39;00m:\n\u001b[0;32m-> 5627\u001b[0m     \u001b[39mreturn\u001b[39;00m \u001b[39msuper\u001b[39;49m()\u001b[39m.\u001b[39;49mfillna(\n\u001b[1;32m   5628\u001b[0m         value\u001b[39m=\u001b[39;49mvalue,\n\u001b[1;32m   5629\u001b[0m         method\u001b[39m=\u001b[39;49mmethod,\n\u001b[1;32m   5630\u001b[0m         axis\u001b[39m=\u001b[39;49maxis,\n\u001b[1;32m   5631\u001b[0m         inplace\u001b[39m=\u001b[39;49minplace,\n\u001b[1;32m   5632\u001b[0m         limit\u001b[39m=\u001b[39;49mlimit,\n\u001b[1;32m   5633\u001b[0m         downcast\u001b[39m=\u001b[39;49mdowncast,\n\u001b[1;32m   5634\u001b[0m     )\n",
      "File \u001b[0;32m~/.local/lib/python3.10/site-packages/pandas/core/generic.py:6800\u001b[0m, in \u001b[0;36mNDFrame.fillna\u001b[0;34m(self, value, method, axis, inplace, limit, downcast)\u001b[0m\n\u001b[1;32m   6689\u001b[0m \u001b[39m\"\"\"\u001b[39;00m\n\u001b[1;32m   6690\u001b[0m \u001b[39mFill NA/NaN values using the specified method.\u001b[39;00m\n\u001b[1;32m   6691\u001b[0m \n\u001b[0;32m   (...)\u001b[0m\n\u001b[1;32m   6797\u001b[0m \u001b[39mNote that column D is not affected since it is not present in df2.\u001b[39;00m\n\u001b[1;32m   6798\u001b[0m \u001b[39m\"\"\"\u001b[39;00m\n\u001b[1;32m   6799\u001b[0m inplace \u001b[39m=\u001b[39m validate_bool_kwarg(inplace, \u001b[39m\"\u001b[39m\u001b[39minplace\u001b[39m\u001b[39m\"\u001b[39m)\n\u001b[0;32m-> 6800\u001b[0m value, method \u001b[39m=\u001b[39m validate_fillna_kwargs(value, method)\n\u001b[1;32m   6802\u001b[0m \u001b[39mself\u001b[39m\u001b[39m.\u001b[39m_consolidate_inplace()\n\u001b[1;32m   6804\u001b[0m \u001b[39m# set the default here, so functions examining the signaure\u001b[39;00m\n\u001b[1;32m   6805\u001b[0m \u001b[39m# can detect if something was set (e.g. in groupby) (GH9221)\u001b[39;00m\n",
      "File \u001b[0;32m~/.local/lib/python3.10/site-packages/pandas/util/_validators.py:391\u001b[0m, in \u001b[0;36mvalidate_fillna_kwargs\u001b[0;34m(value, method, validate_scalar_dict_value)\u001b[0m\n\u001b[1;32m    388\u001b[0m \u001b[39mfrom\u001b[39;00m \u001b[39mpandas\u001b[39;00m\u001b[39m.\u001b[39;00m\u001b[39mcore\u001b[39;00m\u001b[39m.\u001b[39;00m\u001b[39mmissing\u001b[39;00m \u001b[39mimport\u001b[39;00m clean_fill_method\n\u001b[1;32m    390\u001b[0m \u001b[39mif\u001b[39;00m value \u001b[39mis\u001b[39;00m \u001b[39mNone\u001b[39;00m \u001b[39mand\u001b[39;00m method \u001b[39mis\u001b[39;00m \u001b[39mNone\u001b[39;00m:\n\u001b[0;32m--> 391\u001b[0m     \u001b[39mraise\u001b[39;00m \u001b[39mValueError\u001b[39;00m(\u001b[39m\"\u001b[39m\u001b[39mMust specify a fill \u001b[39m\u001b[39m'\u001b[39m\u001b[39mvalue\u001b[39m\u001b[39m'\u001b[39m\u001b[39m or \u001b[39m\u001b[39m'\u001b[39m\u001b[39mmethod\u001b[39m\u001b[39m'\u001b[39m\u001b[39m.\u001b[39m\u001b[39m\"\u001b[39m)\n\u001b[1;32m    392\u001b[0m \u001b[39melif\u001b[39;00m value \u001b[39mis\u001b[39;00m \u001b[39mNone\u001b[39;00m \u001b[39mand\u001b[39;00m method \u001b[39mis\u001b[39;00m \u001b[39mnot\u001b[39;00m \u001b[39mNone\u001b[39;00m:\n\u001b[1;32m    393\u001b[0m     method \u001b[39m=\u001b[39m clean_fill_method(method)\n",
      "\u001b[0;31mValueError\u001b[0m: Must specify a fill 'value' or 'method'."
     ]
    }
   ],
   "source": [
    "import re\n",
    "\n",
    "\n",
    "def parse_single_result(result: str) -> list[int | float]:\n",
    "    SAT_RE = re.compile(\"^sat\", re.M)\n",
    "    UNSAT_RE = re.compile(\"^unsat\", re.M)\n",
    "    UNKNOWN_RE = re.compile(\"^unknown|^--Unknown\", re.M)\n",
    "    ERR_RE = re.compile(\"^\\(error |^--Exception\", re.M | re.I)\n",
    "    TIMEOUT_RE = re.compile(\"^Timeout\", re.M)\n",
    "    TIME_RE = re.compile(\"^Time: (.*)ms\", re.M)\n",
    "    sat = unsat = timeout = unknown = err = timeused = 0\n",
    "    if SAT_RE.search(result):\n",
    "        sat = 1\n",
    "        timeused = float(TIME_RE.search(result).group(1))\n",
    "    elif UNSAT_RE.search(result):\n",
    "        unsat = 1\n",
    "        timeused = float(TIME_RE.search(result).group(1))\n",
    "    elif UNKNOWN_RE.search(result):\n",
    "        unknown = 1\n",
    "        timeused = float(timelimit * 500)\n",
    "    elif TIMEOUT_RE.search(result):\n",
    "        timeout = 1\n",
    "        timeused = float(timelimit * 1000)\n",
    "    elif ERR_RE.search(result):\n",
    "        # else:\n",
    "        err = 1\n",
    "        timeused = float(timelimit * 500)\n",
    "    onedata = [sat, unsat, unknown, err, timeout, timeused]\n",
    "    return onedata\n",
    "\n",
    "\n",
    "def parse_files(filenames: list[str]) -> ResultDf:\n",
    "    \"\"\"parse a file to get data\n",
    "\n",
    "    Args:\n",
    "        filename (str): file name\n",
    "\n",
    "    Returns:\n",
    "        ResultDf: result dataframe\n",
    "    \"\"\"\n",
    "    res = ResultDf()\n",
    "    for filename in filenames:\n",
    "        backend = re.search(f\"([a-z]+)_log.txt\", filename).group(1)\n",
    "        INSTANCE_RE = re.compile(\"^Running \\[(.*)\\]\", re.M)\n",
    "        with open(filename, \"r\") as f:\n",
    "            lines = f.read()\n",
    "            results = lines.split(\"----splitter----\")\n",
    "            for result in results[:-1]:\n",
    "                instance = INSTANCE_RE.search(result).group(1)\n",
    "                onedata = parse_single_result(result)\n",
    "                res.update(backend, instance, onedata)\n",
    "    return res\n",
    "\n",
    "\n",
    "res = parse_files(analyzed_files)\n",
    "\n",
    "\n",
    "def get_final_df(res: ResultDf):\n",
    "    \"\"\"get final dataframe\n",
    "\n",
    "    Args:\n",
    "        res (ResultDf): result dataframe\n",
    "\n",
    "    Returns:\n",
    "        DataFrame: final dataframe\n",
    "    \"\"\"\n",
    "    dataframes: list[DataFrame] = []\n",
    "    for df in res.get_df():\n",
    "        dic = {}\n",
    "        dic[\"avg_time(sat) ms\"] = [df[df[\"sat\"] == 1][\"time(ms)\"].mean()]\n",
    "        dic[\"avg_time(unsat) ms\"] = [df[df[\"unsat\"] == 1][\"time(ms)\"].mean()]\n",
    "        dic[\"avg_time(total) ms\"] = [df[\"time(ms)\"].mean()]\n",
    "        avgf = DataFrame(dic).T.fillna(0, inplace=True)\n",
    "        sumf = df.sum().drop(index=\"time(ms)\")\n",
    "        concatf = pd.concat([sumf, avgf]).astype(\"int64\")\n",
    "        concatf.name = df.name\n",
    "        dataframes.append(concatf)\n",
    "\n",
    "    index = [i for i in range(len(dataframes))]\n",
    "    dfnames = [df.name for df in dataframes]\n",
    "    resdf = pd.concat(dataframes, axis=1, ignore_index=True).rename(\n",
    "        columns=dict(zip(index, dfnames))\n",
    "    )\n",
    "    return resdf\n",
    "\n",
    "\n",
    "get_final_df(res)\n"
   ]
  }
 ],
 "metadata": {
  "kernelspec": {
   "display_name": "Python 3.10.7 64-bit",
   "language": "python",
   "name": "python3"
  },
  "language_info": {
   "codemirror_mode": {
    "name": "ipython",
    "version": 3
   },
   "file_extension": ".py",
   "mimetype": "text/x-python",
   "name": "python",
   "nbconvert_exporter": "python",
   "pygments_lexer": "ipython3",
   "version": "3.10.7"
  },
  "orig_nbformat": 4,
  "vscode": {
   "interpreter": {
    "hash": "e5b8875d39a1c338d63caacf6743fab6c08e73a619ca589b0b737f993fdbd9c9"
   }
  }
 },
 "nbformat": 4,
 "nbformat_minor": 2
}
